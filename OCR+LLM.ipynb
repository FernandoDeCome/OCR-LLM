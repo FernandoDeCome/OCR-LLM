{
 "cells": [
  {
   "cell_type": "markdown",
   "id": "28e78aa9-008c-4866-afd6-46478772f822",
   "metadata": {},
   "source": [
    "### OCI Data Science - Useful Tips\n",
    "<details>\n",
    "<summary><font size=\"2\">Check for Public Internet Access</font></summary>\n",
    "\n",
    "```python\n",
    "import requests\n",
    "response = requests.get(\"https://oracle.com\")\n",
    "assert response.status_code==200, \"Internet connection failed\"\n",
    "```\n",
    "</details>\n",
    "<details>\n",
    "<summary><font size=\"2\">Helpful Documentation </font></summary>\n",
    "<ul><li><a href=\"https://docs.cloud.oracle.com/en-us/iaas/data-science/using/data-science.htm\">Data Science Service Documentation</a></li>\n",
    "<li><a href=\"https://docs.cloud.oracle.com/iaas/tools/ads-sdk/latest/index.html\">ADS documentation</a></li>\n",
    "</ul>\n",
    "</details>\n",
    "<details>\n",
    "<summary><font size=\"2\">Typical Cell Imports and Settings for ADS</font></summary>\n",
    "\n",
    "```python\n",
    "%load_ext autoreload\n",
    "%autoreload 2\n",
    "%matplotlib inline\n",
    "\n",
    "import warnings\n",
    "warnings.filterwarnings('ignore')\n",
    "\n",
    "import logging\n",
    "logging.basicConfig(format='%(levelname)s:%(message)s', level=logging.ERROR)\n",
    "\n",
    "import ads\n",
    "from ads.dataset.factory import DatasetFactory\n",
    "from ads.automl.provider import OracleAutoMLProvider\n",
    "from ads.automl.driver import AutoML\n",
    "from ads.evaluations.evaluator import ADSEvaluator\n",
    "from ads.common.data import ADSData\n",
    "from ads.explanations.explainer import ADSExplainer\n",
    "from ads.explanations.mlx_global_explainer import MLXGlobalExplainer\n",
    "from ads.explanations.mlx_local_explainer import MLXLocalExplainer\n",
    "from ads.catalog.model import ModelCatalog\n",
    "from ads.common.model_artifact import ModelArtifact\n",
    "```\n",
    "</details>\n",
    "<details>\n",
    "<summary><font size=\"2\">Useful Environment Variables</font></summary>\n",
    "\n",
    "```python\n",
    "import os\n",
    "print(os.environ[\"NB_SESSION_COMPARTMENT_OCID\"])\n",
    "print(os.environ[\"PROJECT_OCID\"])\n",
    "print(os.environ[\"USER_OCID\"])\n",
    "print(os.environ[\"TENANCY_OCID\"])\n",
    "print(os.environ[\"NB_REGION\"])\n",
    "```\n",
    "</details>"
   ]
  },
  {
   "cell_type": "code",
   "execution_count": 10,
   "id": "da5a9e75-4e20-4db8-b7ce-8210d6c33988",
   "metadata": {
    "tags": []
   },
   "outputs": [],
   "source": [
    "import oci\n",
    "import uuid\n",
    "import json\n",
    "import os\n",
    "import base64"
   ]
  },
  {
   "cell_type": "code",
   "execution_count": 11,
   "id": "942cef20-3abf-4044-b171-11410f479b09",
   "metadata": {
    "tags": []
   },
   "outputs": [],
   "source": [
    "CONFIG_PROFILE = \"DEFAULT\"\n",
    "config = oci.config.from_file('config', CONFIG_PROFILE)\n",
    "\n",
    "compartment_id = os.environ[\"NB_SESSION_COMPARTMENT_OCID\"]"
   ]
  },
  {
   "cell_type": "code",
   "execution_count": 12,
   "id": "2e6de926-a1b0-4514-83db-cd84d02f350c",
   "metadata": {},
   "outputs": [],
   "source": [
    "def call_OCR(path):\n",
    "    \n",
    "    with open(path, 'rb') as file:\n",
    "        content = file.read()\n",
    "\n",
    "    encoded_string = base64.b64encode(content, altchars=None)\n",
    "    key_value_detection_sample_string = encoded_string.decode(\"utf-8\", \"ignore\")\n",
    "    \n",
    "    aiservicedocument_client = oci.ai_document.AIServiceDocumentClientCompositeOperations(oci.ai_document.AIServiceDocumentClient(config=config))\n",
    "\n",
    "    # Text extraction feature\n",
    "    text_extraction_feature = oci.ai_document.models.DocumentTextExtractionFeature()\n",
    "\n",
    "    # Setup the output location where processor job results will be created\n",
    "    output_location = oci.ai_document.models.OutputLocation()\n",
    "    output_location.namespace_name = '<namespace>'\n",
    "    output_location.bucket_name = '<bucket_name>'\n",
    "    output_location.prefix = \"<prefix_output>\"\n",
    "\n",
    "    # Create a processor_job for text_extraction feature\n",
    "    create_processor_job_details_text_extraction = oci.ai_document.models.CreateProcessorJobDetails(\n",
    "                                                        display_name=str(uuid.uuid4()),\n",
    "                                                        compartment_id=compartment_id,\n",
    "                                                        input_location=oci.ai_document.models.InlineDocumentContent(data=encoded_string.decode('utf-8')),\n",
    "                                                        output_location=output_location,\n",
    "                                                        processor_config=oci.ai_document.models.GeneralProcessorConfig(language=\"POR\",\n",
    "                                                                                                                        features=[text_extraction_feature]))\n",
    "    def create_processor_job_callback(times_called, response):\n",
    "        pass\n",
    "    \n",
    "    #print(\"Calling create_processor with create_processor_job_details_text_extraction:\", create_processor_job_details_text_extraction)\n",
    "    create_processor_response = aiservicedocument_client.create_processor_job_and_wait_for_state(\n",
    "        create_processor_job_details=create_processor_job_details_text_extraction,\n",
    "        wait_for_states=[oci.ai_document.models.ProcessorJob.LIFECYCLE_STATE_SUCCEEDED],\n",
    "        waiter_kwargs={\"wait_callback\": create_processor_job_callback})\n",
    "\n",
    "    processor_job: oci.ai_document.models.ProcessorJob = create_processor_response.data\n",
    "    #print(\"create_processor_job_details_text_extraction response: \", create_processor_response.data)\n",
    "\n",
    "    #print(\"Getting result json from the output_location\")\n",
    "    object_storage_client = oci.object_storage.ObjectStorageClient(config=config)\n",
    "    get_object_response = object_storage_client.get_object(namespace_name=output_location.namespace_name,\n",
    "                                                           bucket_name=output_location.bucket_name,\n",
    "                                                           object_name=\"{}/{}/_/results/defaultObject.json\".format(\n",
    "                                                               output_location.prefix, processor_job.id,\n",
    "                                                               ))\n",
    "\n",
    "    response = get_object_response.data.content.decode()\n",
    "\n",
    "    json_response = json.loads(response)\n",
    "    \n",
    "    try:\n",
    "        return json_response\n",
    "    except:\n",
    "        return []"
   ]
  },
  {
   "cell_type": "code",
   "execution_count": 39,
   "id": "5bdab349-269b-4e44-a761-9c16f1555a3d",
   "metadata": {
    "tags": []
   },
   "outputs": [],
   "source": [
    "res = call_OCR('<file_path>')"
   ]
  },
  {
   "cell_type": "code",
   "execution_count": 40,
   "id": "61553eb3-8041-4297-b5b8-df54a8bdb3d5",
   "metadata": {
    "tags": []
   },
   "outputs": [],
   "source": [
    "extracted_text = ''\n",
    "\n",
    "for i in range(len(res['pages'][0]['lines'])):\n",
    "    extracted_text += f\"{res['pages'][0]['lines'][i]['text']} \\n\""
   ]
  },
  {
   "cell_type": "code",
   "execution_count": 21,
   "id": "1c692726-66dd-4176-a448-7af608b9e51d",
   "metadata": {
    "tags": []
   },
   "outputs": [],
   "source": [
    "pergunta = '''Por favor retorne as segintes informações em bullet points:\n",
    "<campo_1>, <campo_2>, <campo_3>, ...\n",
    "'''"
   ]
  },
  {
   "cell_type": "code",
   "execution_count": 44,
   "id": "e5c4bdfc-e1e2-4fba-8a29-666f51297497",
   "metadata": {
    "tags": []
   },
   "outputs": [],
   "source": [
    "prompt = f'''\n",
    "Você é um assistente que irá responder dúvidas pontuais sobre o texto extraído de um documento.\n",
    "Por favor, responda sempre baseado apenas no contexto fornecido e em Português do Brasil pt-br.\n",
    "\n",
    "Contexto: {extracted_text};\n",
    "Pergunta: {pergunta};\n",
    "\n",
    "Por favor responda com muita atenção, pois isto é muito importante para minha carreira!\n",
    "'''"
   ]
  }
 ],
 "metadata": {
  "kernelspec": {
   "display_name": "Python [conda env:pytorch21_p39_gpu_v1]",
   "language": "python",
   "name": "conda-env-pytorch21_p39_gpu_v1-py"
  },
  "language_info": {
   "codemirror_mode": {
    "name": "ipython",
    "version": 3
   },
   "file_extension": ".py",
   "mimetype": "text/x-python",
   "name": "python",
   "nbconvert_exporter": "python",
   "pygments_lexer": "ipython3",
   "version": "3.9.16"
  }
 },
 "nbformat": 4,
 "nbformat_minor": 5
}
